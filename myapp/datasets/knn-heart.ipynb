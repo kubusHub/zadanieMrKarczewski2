{
 "cells": [
  {
   "cell_type": "code",
   "id": "142e65b1",
   "metadata": {
    "ExecuteTime": {
     "end_time": "2025-05-21T21:24:46.107746Z",
     "start_time": "2025-05-21T21:24:46.104983Z"
    }
   },
   "source": [
    "import numpy as np\n",
    "import pandas as pd\n",
    "import pickle as pkl\n",
    "import matplotlib.pyplot as plt\n",
    "from sklearn.neighbors import KNeighborsClassifier\n",
    "from sklearn.model_selection import cross_val_score, StratifiedKFold"
   ],
   "outputs": [],
   "execution_count": 10
  },
  {
   "cell_type": "code",
   "id": "85086d10",
   "metadata": {
    "ExecuteTime": {
     "end_time": "2025-05-21T21:24:46.246354Z",
     "start_time": "2025-05-21T21:24:46.125589Z"
    }
   },
   "source": [
    "data = pd.read_csv('Heart Prediction Quantum Dataset.csv')\n",
    "data = data.drop('QuantumPatternFeature',axis=1)\n",
    "print(data)\n",
    "data['HeartDisease'].hist()"
   ],
   "outputs": [
    {
     "name": "stdout",
     "output_type": "stream",
     "text": [
      "     Age  Gender  BloodPressure  Cholesterol  HeartRate  HeartDisease\n",
      "0     68       1            105          191        107             1\n",
      "1     58       0             97          249         89             0\n",
      "2     44       0             93          190         82             1\n",
      "3     72       1             93          183        101             1\n",
      "4     37       0            145          166        103             1\n",
      "..   ...     ...            ...          ...        ...           ...\n",
      "495   34       0            126          292        116             0\n",
      "496   41       0            164          248        114             0\n",
      "497   45       1            159          175         75             0\n",
      "498   55       0            107          157        101             1\n",
      "499   55       0            174          249         89             0\n",
      "\n",
      "[500 rows x 6 columns]\n"
     ]
    },
    {
     "data": {
      "text/plain": [
       "<Axes: >"
      ]
     },
     "execution_count": 11,
     "metadata": {},
     "output_type": "execute_result"
    },
    {
     "data": {
      "text/plain": [
       "<Figure size 640x480 with 1 Axes>"
      ],
      "image/png": "[encoded data removed]"
     },
     "metadata": {},
     "output_type": "display_data"
    }
   ],
   "execution_count": 11
  },
  {
   "cell_type": "code",
   "id": "a5debb6f",
   "metadata": {
    "ExecuteTime": {
     "end_time": "2025-05-21T21:24:46.279504Z",
     "start_time": "2025-05-21T21:24:46.258889Z"
    }
   },
   "source": [
    "X = data\n",
    "target = data['HeartDisease']\n",
    "target\n",
    "X.describe()"
   ],
   "outputs": [
    {
     "data": {
      "text/plain": [
       "              Age      Gender  BloodPressure  Cholesterol   HeartRate  \\\n",
       "count  500.000000  500.000000     500.000000    500.00000  500.000000   \n",
       "mean    54.864000    0.468000     132.874000    221.50000   88.766000   \n",
       "std     14.315004    0.499475      26.418516     43.86363   17.417289   \n",
       "min     30.000000    0.000000      90.000000    150.00000   60.000000   \n",
       "25%     43.000000    0.000000     111.000000    183.75000   73.000000   \n",
       "50%     55.000000    0.000000     132.000000    221.00000   89.000000   \n",
       "75%     66.250000    1.000000     155.000000    258.00000  104.000000   \n",
       "max     79.000000    1.000000     179.000000    299.00000  119.000000   \n",
       "\n",
       "       HeartDisease  \n",
       "count    500.000000  \n",
       "mean       0.600000  \n",
       "std        0.490389  \n",
       "min        0.000000  \n",
       "25%        0.000000  \n",
       "50%        1.000000  \n",
       "75%        1.000000  \n",
       "max        1.000000  "
      ],
      "text/html": [
       "<div>\n",
       "<style scoped>\n",
       "    .dataframe tbody tr th:only-of-type {\n",
       "        vertical-align: middle;\n",
       "    }\n",
       "\n",
       "    .dataframe tbody tr th {\n",
       "        vertical-align: top;\n",
       "    }\n",
       "\n",
       "    .dataframe thead th {\n",
       "        text-align: right;\n",
       "    }\n",
       "</style>\n",
       "<table border=\"1\" class=\"dataframe\">\n",
       "  <thead>\n",
       "    <tr style=\"text-align: right;\">\n",
       "      <th></th>\n",
       "      <th>Age</th>\n",
       "      <th>Gender</th>\n",
       "      <th>BloodPressure</th>\n",
       "      <th>Cholesterol</th>\n",
       "      <th>HeartRate</th>\n",
       "      <th>HeartDisease</th>\n",
       "    </tr>\n",
       "  </thead>\n",
       "  <tbody>\n",
       "    <tr>\n",
       "      <th>count</th>\n",
       "      <td>500.000000</td>\n",
       "      <td>500.000000</td>\n",
       "      <td>500.000000</td>\n",
       "      <td>500.00000</td>\n",
       "      <td>500.000000</td>\n",
       "      <td>500.000000</td>\n",
       "    </tr>\n",
       "    <tr>\n",
       "      <th>mean</th>\n",
       "      <td>54.864000</td>\n",
       "      <td>0.468000</td>\n",
       "      <td>132.874000</td>\n",
       "      <td>221.50000</td>\n",
       "      <td>88.766000</td>\n",
       "      <td>0.600000</td>\n",
       "    </tr>\n",
       "    <tr>\n",
       "      <th>std</th>\n",
       "      <td>14.315004</td>\n",
       "      <td>0.499475</td>\n",
       "      <td>26.418516</td>\n",
       "      <td>43.86363</td>\n",
       "      <td>17.417289</td>\n",
       "      <td>0.490389</td>\n",
       "    </tr>\n",
       "    <tr>\n",
       "      <th>min</th>\n",
       "      <td>30.000000</td>\n",
       "      <td>0.000000</td>\n",
       "      <td>90.000000</td>\n",
       "      <td>150.00000</td>\n",
       "      <td>60.000000</td>\n",
       "      <td>0.000000</td>\n",
       "    </tr>\n",
       "    <tr>\n",
       "      <th>25%</th>\n",
       "      <td>43.000000</td>\n",
       "      <td>0.000000</td>\n",
       "      <td>111.000000</td>\n",
       "      <td>183.75000</td>\n",
       "      <td>73.000000</td>\n",
       "      <td>0.000000</td>\n",
       "    </tr>\n",
       "    <tr>\n",
       "      <th>50%</th>\n",
       "      <td>55.000000</td>\n",
       "      <td>0.000000</td>\n",
       "      <td>132.000000</td>\n",
       "      <td>221.00000</td>\n",
       "      <td>89.000000</td>\n",
       "      <td>1.000000</td>\n",
       "    </tr>\n",
       "    <tr>\n",
       "      <th>75%</th>\n",
       "      <td>66.250000</td>\n",
       "      <td>1.000000</td>\n",
       "      <td>155.000000</td>\n",
       "      <td>258.00000</td>\n",
       "      <td>104.000000</td>\n",
       "      <td>1.000000</td>\n",
       "    </tr>\n",
       "    <tr>\n",
       "      <th>max</th>\n",
       "      <td>79.000000</td>\n",
       "      <td>1.000000</td>\n",
       "      <td>179.000000</td>\n",
       "      <td>299.00000</td>\n",
       "      <td>119.000000</td>\n",
       "      <td>1.000000</td>\n",
       "    </tr>\n",
       "  </tbody>\n",
       "</table>\n",
       "</div>"
      ]
     },
     "execution_count": 12,
     "metadata": {},
     "output_type": "execute_result"
    }
   ],
   "execution_count": 12
  },
  {
   "cell_type": "code",
   "id": "c96278fe",
   "metadata": {
    "ExecuteTime": {
     "end_time": "2025-05-21T21:24:47.652908Z",
     "start_time": "2025-05-21T21:24:46.323573Z"
    }
   },
   "source": [
    "n = [i for i in range(1,15)]\n",
    "p = [1,2]\n",
    "\n",
    "\n",
    "scores = {}\n",
    "\n",
    "for n_value in n:\n",
    "    for p_value in p:\n",
    "        knn = KNeighborsClassifier(n_neighbors=n_value, p=p_value)\n",
    "        score = cross_val_score(knn, X, target, cv=StratifiedKFold(5))\n",
    "        score = score.mean()\n",
    "        print(f'n={n_value} p={p_value} score={score * 100:.2f}%')\n",
    "        scores[f'n={n_value} p={p_value}'] = score"
   ],
   "outputs": [
    {
     "name": "stdout",
     "output_type": "stream",
     "text": [
      "n=1 p=1 score=69.80%\n",
      "n=1 p=2 score=68.60%\n",
      "n=2 p=1 score=67.40%\n",
      "n=2 p=2 score=64.60%\n",
      "n=3 p=1 score=74.40%\n",
      "n=3 p=2 score=71.80%\n",
      "n=4 p=1 score=73.20%\n",
      "n=4 p=2 score=68.60%\n",
      "n=5 p=1 score=74.80%\n",
      "n=5 p=2 score=71.80%\n",
      "n=6 p=1 score=73.20%\n",
      "n=6 p=2 score=70.60%\n",
      "n=7 p=1 score=73.20%\n",
      "n=7 p=2 score=72.20%\n",
      "n=8 p=1 score=73.80%\n",
      "n=8 p=2 score=71.20%\n",
      "n=9 p=1 score=74.80%\n",
      "n=9 p=2 score=73.40%\n",
      "n=10 p=1 score=74.40%\n",
      "n=10 p=2 score=74.20%\n",
      "n=11 p=1 score=75.20%\n",
      "n=11 p=2 score=75.60%\n",
      "n=12 p=1 score=75.20%\n",
      "n=12 p=2 score=73.80%\n",
      "n=13 p=1 score=75.20%\n",
      "n=13 p=2 score=75.00%\n",
      "n=14 p=1 score=76.00%\n",
      "n=14 p=2 score=73.60%\n"
     ]
    }
   ],
   "execution_count": 13
  },
  {
   "cell_type": "code",
   "id": "0f569d23",
   "metadata": {
    "ExecuteTime": {
     "end_time": "2025-05-21T21:32:23.051203Z",
     "start_time": "2025-05-21T21:32:22.897943Z"
    }
   },
   "source": [
    "import matplotlib.pyplot as plt\n",
    "import pickle\n",
    "import base64\n",
    "import io\n",
    "\n",
    "n_values = range(1,15)\n",
    "scores_p1 = [scores[f'n={n} p=1'] for n in n_values]\n",
    "scores_p2 = [scores[f'n={n} p=2'] for n in n_values]\n",
    "\n",
    "plt.figure(figsize=(10,6))\n",
    "plt.plot(n_values, scores_p1, label='p=1 (Manhattan)', marker='o', color='blue')\n",
    "plt.plot(n_values, scores_p2, label='p=2 (Euklidesowa)', marker='o', color='green')\n",
    "\n",
    "plt.title('Dokladnosc KNN w zalenosci od liczby sasiadow')\n",
    "plt.xlabel('Liczba sasiadow')\n",
    "plt.ylabel('Dokladnosc')\n",
    "plt.grid(True, linestyle='--', alpha=0.5)\n",
    "plt.legend()\n",
    "plt.tight_layout()\n",
    "\n",
    "buf = io.BytesIO()\n",
    "plt.savefig(buf, format='png')\n",
    "buf.seek(0)\n",
    "\n",
    "img_base64 = base64.b64encode(buf.read()).decode('utf-8')\n",
    "\n",
    "plt.close()\n",
    "\n",
    "with open('../datasets/knn-heart.pkl', 'wb') as f:\n",
    "    pickle.dump(img_base64, f)\n",
    "\n",
    "plt.show()\n"
   ],
   "outputs": [],
   "execution_count": 20
  }
 ],
 "metadata": {
  "kernelspec": {
   "display_name": "Python 3",
   "language": "python",
   "name": "python3"
  },
  "language_info": {
   "codemirror_mode": {
    "name": "ipython",
    "version": 3
   },
   "file_extension": ".py",
   "mimetype": "text/x-python",
   "name": "python",
   "nbconvert_exporter": "python",
   "pygments_lexer": "ipython3",
   "version": "3.13.3"
  }
 },
 "nbformat": 4,
 "nbformat_minor": 5
}
