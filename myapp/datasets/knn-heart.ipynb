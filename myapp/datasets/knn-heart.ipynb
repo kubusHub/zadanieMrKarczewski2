{
 "cells": [
  {
   "cell_type": "code",
   "metadata": {
    "ExecuteTime": {
     "end_time": "2025-05-25T20:22:33.956052Z",
     "start_time": "2025-05-25T20:22:33.953324Z"
    }
   },
   "source": [
    "import numpy as np\n",
    "import json\n",
    "import io\n",
    "import pandas as pd\n",
    "import pickle as pkl\n",
    "import matplotlib.pyplot as plt\n",
    "from sklearn.neighbors import KNeighborsClassifier\n",
    "from sklearn.model_selection import cross_val_score, StratifiedKFold, train_test_split"
   ],
   "outputs": [],
   "execution_count": 140
  },
  {
   "cell_type": "code",
   "metadata": {
    "ExecuteTime": {
     "end_time": "2025-05-25T20:22:33.977471Z",
     "start_time": "2025-05-25T20:22:33.971372Z"
    }
   },
   "source": [
    "data = pd.read_csv('Crop_recommendation.csv')\n",
    "\n"
   ],
   "outputs": [],
   "execution_count": 141
  },
  {
   "cell_type": "code",
   "metadata": {
    "ExecuteTime": {
     "end_time": "2025-05-25T20:24:10.572024Z",
     "start_time": "2025-05-25T20:24:10.518545Z"
    }
   },
   "source": [
    "import os\n",
    "\n",
    "X = data[['N', 'P', 'K', 'temperature', 'humidity', 'ph', 'rainfall']].values\n",
    "y=data['label'].values\n",
    "model = KNeighborsClassifier(n_neighbors=3)\n",
    "model.fit(X, y)\n",
    "\n",
    "with open('knn_model.pkl', 'wb') as f:\n",
    "        pkl.dump(model, f)"
   ],
   "outputs": [
    {
     "ename": "AttributeError",
     "evalue": "'DataFrame' object has no attribute 'valueslues'",
     "output_type": "error",
     "traceback": [
      "\u001B[31m---------------------------------------------------------------------------\u001B[39m",
      "\u001B[31mAttributeError\u001B[39m                            Traceback (most recent call last)",
      "\u001B[32m~\\AppData\\Local\\Temp\\ipykernel_20884\\3121929833.py\u001B[39m in \u001B[36m?\u001B[39m\u001B[34m()\u001B[39m\n\u001B[32m      1\u001B[39m \u001B[38;5;28;01mimport\u001B[39;00m os\n\u001B[32m      2\u001B[39m \n\u001B[32m----> \u001B[39m\u001B[32m3\u001B[39m X = data[[\u001B[33m'N'\u001B[39m, \u001B[33m'P'\u001B[39m, \u001B[33m'K'\u001B[39m, \u001B[33m'temperature'\u001B[39m, \u001B[33m'humidity'\u001B[39m, \u001B[33m'ph'\u001B[39m, \u001B[33m'rainfall'\u001B[39m]].valueslues\n\u001B[32m      4\u001B[39m y=data[\u001B[33m'label'\u001B[39m].values\n\u001B[32m      5\u001B[39m model = KNeighborsClassifier(n_neighbors=\u001B[32m3\u001B[39m)\n\u001B[32m      6\u001B[39m model.fit(X, y)\n",
      "\u001B[32m~\\PycharmProjects\\heart\\.venv\\Lib\\site-packages\\pandas\\core\\generic.py\u001B[39m in \u001B[36m?\u001B[39m\u001B[34m(self, name)\u001B[39m\n\u001B[32m   6295\u001B[39m             \u001B[38;5;28;01mand\u001B[39;00m name \u001B[38;5;28;01mnot\u001B[39;00m \u001B[38;5;28;01min\u001B[39;00m self._accessors\n\u001B[32m   6296\u001B[39m             \u001B[38;5;28;01mand\u001B[39;00m self._info_axis._can_hold_identifiers_and_holds_name(name)\n\u001B[32m   6297\u001B[39m         ):\n\u001B[32m   6298\u001B[39m             \u001B[38;5;28;01mreturn\u001B[39;00m self[name]\n\u001B[32m-> \u001B[39m\u001B[32m6299\u001B[39m         \u001B[38;5;28;01mreturn\u001B[39;00m object.__getattribute__(self, name)\n",
      "\u001B[31mAttributeError\u001B[39m: 'DataFrame' object has no attribute 'valueslues'"
     ]
    }
   ],
   "execution_count": 143
  },
  {
   "cell_type": "code",
   "metadata": {
    "ExecuteTime": {
     "end_time": "2025-05-25T20:22:34.015974Z",
     "start_time": "2025-05-25T20:22:34.014150Z"
    }
   },
   "source": "",
   "outputs": [],
   "execution_count": null
  },
  {
   "cell_type": "code",
   "metadata": {
    "ExecuteTime": {
     "end_time": "2025-05-25T20:22:34.032961Z",
     "start_time": "2025-05-25T20:22:34.031117Z"
    }
   },
   "source": "",
   "outputs": [],
   "execution_count": null
  }
 ],
 "metadata": {
  "kernelspec": {
   "display_name": "Python 3",
   "language": "python",
   "name": "python3"
  },
  "language_info": {
   "codemirror_mode": {
    "name": "ipython",
    "version": 3
   },
   "file_extension": ".py",
   "mimetype": "text/x-python",
   "name": "python",
   "nbconvert_exporter": "python",
   "pygments_lexer": "ipython3",
   "version": "3.10.11"
  }
 },
 "nbformat": 4,
 "nbformat_minor": 2
}
