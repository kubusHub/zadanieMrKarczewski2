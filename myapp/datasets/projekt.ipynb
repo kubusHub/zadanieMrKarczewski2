{
 "cells": [
  {
   "cell_type": "markdown",
   "id": "c1b03a3f",
   "metadata": {},
   "source": [
    "## Importy\n"
   ]
  },
  {
   "cell_type": "code",
   "execution_count": 2,
   "id": "c0efc1aa",
   "metadata": {},
   "outputs": [],
   "source": [
    "import numpy as np\n",
    "import pandas as pd\n",
    "import matplotlib as plt\n",
    "from sklearn.tree import DecisionTreeClassifier\n",
    "from sklearn.model_selection import train_test_split\n",
    "from sklearn.metrics import *\n",
    "from sklearn import tree\n",
    "import pickle"
   ]
  },
  {
   "cell_type": "markdown",
   "id": "acd34fb3",
   "metadata": {},
   "source": [
    "## Przygotowanie danych"
   ]
  },
  {
   "cell_type": "code",
   "execution_count": 3,
   "id": "a928fec7",
   "metadata": {},
   "outputs": [
    {
     "data": {
      "text/html": [
       "<div>\n",
       "<style scoped>\n",
       "    .dataframe tbody tr th:only-of-type {\n",
       "        vertical-align: middle;\n",
       "    }\n",
       "\n",
       "    .dataframe tbody tr th {\n",
       "        vertical-align: top;\n",
       "    }\n",
       "\n",
       "    .dataframe thead th {\n",
       "        text-align: right;\n",
       "    }\n",
       "</style>\n",
       "<table border=\"1\" class=\"dataframe\">\n",
       "  <thead>\n",
       "    <tr style=\"text-align: right;\">\n",
       "      <th></th>\n",
       "      <th>Age</th>\n",
       "      <th>Gender</th>\n",
       "      <th>BloodPressure</th>\n",
       "      <th>Cholesterol</th>\n",
       "      <th>HeartRate</th>\n",
       "      <th>HeartDisease</th>\n",
       "    </tr>\n",
       "  </thead>\n",
       "  <tbody>\n",
       "    <tr>\n",
       "      <th>0</th>\n",
       "      <td>68</td>\n",
       "      <td>1</td>\n",
       "      <td>105</td>\n",
       "      <td>191</td>\n",
       "      <td>107</td>\n",
       "      <td>1</td>\n",
       "    </tr>\n",
       "    <tr>\n",
       "      <th>1</th>\n",
       "      <td>58</td>\n",
       "      <td>0</td>\n",
       "      <td>97</td>\n",
       "      <td>249</td>\n",
       "      <td>89</td>\n",
       "      <td>0</td>\n",
       "    </tr>\n",
       "    <tr>\n",
       "      <th>2</th>\n",
       "      <td>44</td>\n",
       "      <td>0</td>\n",
       "      <td>93</td>\n",
       "      <td>190</td>\n",
       "      <td>82</td>\n",
       "      <td>1</td>\n",
       "    </tr>\n",
       "    <tr>\n",
       "      <th>3</th>\n",
       "      <td>72</td>\n",
       "      <td>1</td>\n",
       "      <td>93</td>\n",
       "      <td>183</td>\n",
       "      <td>101</td>\n",
       "      <td>1</td>\n",
       "    </tr>\n",
       "    <tr>\n",
       "      <th>4</th>\n",
       "      <td>37</td>\n",
       "      <td>0</td>\n",
       "      <td>145</td>\n",
       "      <td>166</td>\n",
       "      <td>103</td>\n",
       "      <td>1</td>\n",
       "    </tr>\n",
       "    <tr>\n",
       "      <th>...</th>\n",
       "      <td>...</td>\n",
       "      <td>...</td>\n",
       "      <td>...</td>\n",
       "      <td>...</td>\n",
       "      <td>...</td>\n",
       "      <td>...</td>\n",
       "    </tr>\n",
       "    <tr>\n",
       "      <th>495</th>\n",
       "      <td>34</td>\n",
       "      <td>0</td>\n",
       "      <td>126</td>\n",
       "      <td>292</td>\n",
       "      <td>116</td>\n",
       "      <td>0</td>\n",
       "    </tr>\n",
       "    <tr>\n",
       "      <th>496</th>\n",
       "      <td>41</td>\n",
       "      <td>0</td>\n",
       "      <td>164</td>\n",
       "      <td>248</td>\n",
       "      <td>114</td>\n",
       "      <td>0</td>\n",
       "    </tr>\n",
       "    <tr>\n",
       "      <th>497</th>\n",
       "      <td>45</td>\n",
       "      <td>1</td>\n",
       "      <td>159</td>\n",
       "      <td>175</td>\n",
       "      <td>75</td>\n",
       "      <td>0</td>\n",
       "    </tr>\n",
       "    <tr>\n",
       "      <th>498</th>\n",
       "      <td>55</td>\n",
       "      <td>0</td>\n",
       "      <td>107</td>\n",
       "      <td>157</td>\n",
       "      <td>101</td>\n",
       "      <td>1</td>\n",
       "    </tr>\n",
       "    <tr>\n",
       "      <th>499</th>\n",
       "      <td>55</td>\n",
       "      <td>0</td>\n",
       "      <td>174</td>\n",
       "      <td>249</td>\n",
       "      <td>89</td>\n",
       "      <td>0</td>\n",
       "    </tr>\n",
       "  </tbody>\n",
       "</table>\n",
       "<p>500 rows × 6 columns</p>\n",
       "</div>"
      ],
      "text/plain": [
       "     Age  Gender  BloodPressure  Cholesterol  HeartRate  HeartDisease\n",
       "0     68       1            105          191        107             1\n",
       "1     58       0             97          249         89             0\n",
       "2     44       0             93          190         82             1\n",
       "3     72       1             93          183        101             1\n",
       "4     37       0            145          166        103             1\n",
       "..   ...     ...            ...          ...        ...           ...\n",
       "495   34       0            126          292        116             0\n",
       "496   41       0            164          248        114             0\n",
       "497   45       1            159          175         75             0\n",
       "498   55       0            107          157        101             1\n",
       "499   55       0            174          249         89             0\n",
       "\n",
       "[500 rows x 6 columns]"
      ]
     },
     "execution_count": 3,
     "metadata": {},
     "output_type": "execute_result"
    }
   ],
   "source": [
    "data = pd.read_csv('Heart Prediction Quantum Dataset.csv')\n",
    "data = data.drop('QuantumPatternFeature',axis=1)\n",
    "data"
   ]
  },
  {
   "cell_type": "code",
   "execution_count": 4,
   "id": "cfd8faeb",
   "metadata": {},
   "outputs": [
    {
     "data": {
      "text/plain": [
       "array([[ 68,   1, 105, 191, 107],\n",
       "       [ 58,   0,  97, 249,  89],\n",
       "       [ 44,   0,  93, 190,  82],\n",
       "       ...,\n",
       "       [ 45,   1, 159, 175,  75],\n",
       "       [ 55,   0, 107, 157, 101],\n",
       "       [ 55,   0, 174, 249,  89]])"
      ]
     },
     "execution_count": 4,
     "metadata": {},
     "output_type": "execute_result"
    }
   ],
   "source": [
    "X = data.drop(labels='HeartDisease',axis=1)\n",
    "Y = data['HeartDisease']\n",
    "X = X.to_numpy()\n",
    "Y = Y.to_numpy()\n",
    "X"
   ]
  },
  {
   "cell_type": "markdown",
   "id": "ca484384",
   "metadata": {},
   "source": [
    "## Klasyfikacja"
   ]
  },
  {
   "cell_type": "code",
   "execution_count": 5,
   "id": "a13aff07",
   "metadata": {},
   "outputs": [
    {
     "name": "stdout",
     "output_type": "stream",
     "text": [
      "(250, 5) (250, 5) [0 1 1 1 1 1 1 0 0 1 1 1 1 1 1 1 1 1 1 1 0 1 1 1 0 1 1 0 1 1 1 1 0 0 1 0 1\n",
      " 1 0 0 0 1 1 1 0 0 1 1 1 1 1 1 1 1 1 1 1 1 1 0 0 0 1 0 0 1 1 0 0 1 1 0 1 0\n",
      " 1 1 1 1 0 1 1 0 1 0 1 0 1 1 0 1 1 1 1 1 0 1 1 0 1 1 0 1 1 0 1 1 0 1 1 0 1\n",
      " 1 0 1 0 1 0 0 0 0 0 1 0 1 0 1 1 0 0 0 1 1 0 0 0 1 0 1 1 1 1 1 0 1 1 1 0 1\n",
      " 1 1 0 1 1 0 1 0 1 1 0 0 0 1 0 0 0 1 0 1 1 1 0 1 1 0 1 0 0 0 1 1 0 1 0 1 0\n",
      " 1 1 0 1 0 0 0 0 1 0 1 1 0 0 1 1 0 0 0 1 1 1 0 0 0 0 1 1 1 1 1 0 0 0 1 1 1\n",
      " 1 1 0 0 0 1 1 1 0 1 0 0 0 1 0 1 1 1 1 1 1 0 1 1 0 1 0 0] [1 0 1 1 1 0 0 0 1 1 1 0 1 1 1 1 0 0 1 1 1 1 1 0 1 1 1 0 1 1 0 1 1 1 1 0 0\n",
      " 0 1 1 1 1 0 1 1 1 1 0 1 1 1 0 1 0 0 1 0 0 1 1 1 1 1 1 1 1 0 1 1 1 0 1 1 1\n",
      " 1 0 1 0 0 1 0 1 1 1 0 0 1 0 1 1 0 0 0 0 0 1 0 1 0 1 0 0 0 0 0 0 1 0 1 0 0\n",
      " 0 0 0 0 0 1 1 0 1 1 1 1 0 0 1 0 1 0 1 0 0 1 0 1 0 0 1 1 1 0 1 1 0 1 1 1 0\n",
      " 1 1 1 1 0 0 0 0 0 1 0 1 0 1 0 1 0 0 1 1 1 0 1 1 0 1 1 0 1 1 1 1 1 0 0 1 1\n",
      " 1 0 0 0 1 1 1 1 0 1 1 1 0 1 0 1 1 1 0 0 1 1 0 1 1 1 0 1 1 1 0 1 1 1 1 0 1\n",
      " 0 0 1 0 0 1 1 1 1 1 0 1 1 1 0 0 1 1 1 1 0 1 1 0 0 1 1 1]\n"
     ]
    }
   ],
   "source": [
    "X_train, X_test,Y_train, Y_test = train_test_split(X,Y,test_size=0.5, random_state=1410)\n",
    "print(X_train.shape, X_test.shape, Y_train,Y_test)"
   ]
  },
  {
   "cell_type": "code",
   "execution_count": 16,
   "id": "5f3be054",
   "metadata": {},
   "outputs": [
    {
     "data": {
      "text/plain": [
       "np.float64(0.7516666666666667)"
      ]
     },
     "execution_count": 16,
     "metadata": {},
     "output_type": "execute_result"
    }
   ],
   "source": [
    "cls = DecisionTreeClassifier(random_state=1410,max_depth=3)\n",
    "cls.fit(X_train,Y_train)\n",
    "Y_pred = cls.predict(X_test)\n",
    "bac = balanced_accuracy_score(Y_test,Y_pred)\n",
    "bac"
   ]
  },
  {
   "cell_type": "code",
   "execution_count": 13,
   "id": "1350a4d3",
   "metadata": {},
   "outputs": [
    {
     "data": {
      "text/plain": [
       "[Text(0.5, 0.875, 'x[0] <= 58.5\\ngini = 0.48\\nsamples = 250\\nvalue = [100, 150]'),\n",
       " Text(0.25, 0.625, 'x[0] <= 37.5\\ngini = 0.481\\nsamples = 137\\nvalue = [82, 55]'),\n",
       " Text(0.375, 0.75, 'True  '),\n",
       " Text(0.125, 0.375, 'x[3] <= 243.5\\ngini = 0.327\\nsamples = 34\\nvalue = [7, 27]'),\n",
       " Text(0.0625, 0.125, 'gini = 0.147\\nsamples = 25\\nvalue = [2, 23]'),\n",
       " Text(0.1875, 0.125, 'gini = 0.494\\nsamples = 9\\nvalue = [5, 4]'),\n",
       " Text(0.375, 0.375, 'x[3] <= 173.0\\ngini = 0.396\\nsamples = 103\\nvalue = [75, 28]'),\n",
       " Text(0.3125, 0.125, 'gini = 0.375\\nsamples = 16\\nvalue = [4, 12]'),\n",
       " Text(0.4375, 0.125, 'gini = 0.3\\nsamples = 87\\nvalue = [71, 16]'),\n",
       " Text(0.75, 0.625, 'x[3] <= 248.0\\ngini = 0.268\\nsamples = 113\\nvalue = [18, 95]'),\n",
       " Text(0.625, 0.75, '  False'),\n",
       " Text(0.625, 0.375, 'x[0] <= 64.5\\ngini = 0.136\\nsamples = 82\\nvalue = [6, 76]'),\n",
       " Text(0.5625, 0.125, 'gini = 0.337\\nsamples = 28\\nvalue = [6, 22]'),\n",
       " Text(0.6875, 0.125, 'gini = 0.0\\nsamples = 54\\nvalue = [0, 54]'),\n",
       " Text(0.875, 0.375, 'x[0] <= 71.5\\ngini = 0.475\\nsamples = 31\\nvalue = [12, 19]'),\n",
       " Text(0.8125, 0.125, 'gini = 0.488\\nsamples = 19\\nvalue = [11, 8]'),\n",
       " Text(0.9375, 0.125, 'gini = 0.153\\nsamples = 12\\nvalue = [1, 11]')]"
      ]
     },
     "execution_count": 13,
     "metadata": {},
     "output_type": "execute_result"
    },
    {
     "data": {
      "image/png": "[encoded data removed]",
      "text/plain": [
       "<Figure size 640x480 with 1 Axes>"
      ]
     },
     "metadata": {},
     "output_type": "display_data"
    }
   ],
   "source": [
    "tree.plot_tree(cls,filled=True)"
   ]
  },
  {
   "cell_type": "code",
   "execution_count": 8,
   "id": "1a0cff4e",
   "metadata": {},
   "outputs": [
    {
     "data": {
      "text/plain": [
       "<sklearn.metrics._plot.confusion_matrix.ConfusionMatrixDisplay at 0x107d14170>"
      ]
     },
     "execution_count": 8,
     "metadata": {},
     "output_type": "execute_result"
    },
    {
     "data": {
      "image/png": "[encoded data removed]",
      "text/plain": [
       "<Figure size 640x480 with 2 Axes>"
      ]
     },
     "metadata": {},
     "output_type": "display_data"
    }
   ],
   "source": [
    "disp = ConfusionMatrixDisplay(confusion_matrix=confusion_matrix(Y_test,Y_pred))\n",
    "disp.plot()"
   ]
  },
  {
   "cell_type": "code",
   "execution_count": 9,
   "id": "3211b20d",
   "metadata": {},
   "outputs": [
    {
     "name": "stdout",
     "output_type": "stream",
     "text": [
      "              precision    recall  f1-score   support\n",
      "\n",
      "           0       0.64      0.68      0.66       100\n",
      "           1       0.78      0.74      0.76       150\n",
      "\n",
      "    accuracy                           0.72       250\n",
      "   macro avg       0.71      0.71      0.71       250\n",
      "weighted avg       0.72      0.72      0.72       250\n",
      "\n"
     ]
    }
   ],
   "source": [
    "print(classification_report(Y_test, Y_pred))"
   ]
  },
  {
   "cell_type": "markdown",
   "id": "a12ef53a",
   "metadata": {},
   "source": [
    "jak zmiejszymy tree depth to nasz algorytm lepiej dziala dla ludzi co maja zawal ale nie wplywa na zdrowych"
   ]
  },
  {
   "cell_type": "code",
   "execution_count": 10,
   "id": "8cd79099",
   "metadata": {},
   "outputs": [],
   "source": [
    "pickle.dump(cls,open('heart.sv','wb'))"
   ]
  },
  {
   "cell_type": "code",
   "execution_count": 11,
   "id": "7b9e2516",
   "metadata": {},
   "outputs": [
    {
     "data": {
      "text/plain": [
       "array([1, 0, 1, 1, 0, 0, 1, 0, 1, 1, 1, 0, 1, 1, 1, 0, 1, 0, 1, 1, 1, 1,\n",
       "       1, 0, 1, 1, 1, 0, 1, 0, 1, 1, 1, 1, 0, 1, 1, 1, 0, 1, 1, 0, 1, 0,\n",
       "       1, 1, 1, 1, 1, 1, 1, 0, 1, 0, 0, 0, 0, 1, 1, 1, 1, 1, 0, 0, 0, 1,\n",
       "       0, 1, 0, 1, 0, 0, 1, 0, 1, 0, 1, 0, 0, 1, 0, 1, 1, 1, 1, 0, 1, 0,\n",
       "       1, 1, 0, 0, 0, 0, 1, 1, 0, 1, 0, 1, 0, 0, 1, 0, 0, 0, 1, 1, 1, 0,\n",
       "       1, 0, 1, 1, 0, 0, 0, 0, 0, 1, 1, 1, 0, 0, 0, 1, 1, 0, 1, 0, 1, 0,\n",
       "       1, 0, 1, 0, 0, 1, 0, 1, 0, 0, 1, 0, 0, 1, 1, 0, 1, 1, 1, 0, 1, 0,\n",
       "       0, 1, 0, 1, 1, 0, 0, 1, 0, 0, 0, 0, 0, 1, 1, 1, 1, 1, 0, 1, 0, 0,\n",
       "       0, 1, 1, 1, 1, 0, 0, 1, 1, 1, 1, 0, 1, 1, 1, 1, 1, 0, 1, 0, 1, 0,\n",
       "       0, 0, 1, 0, 1, 1, 0, 1, 1, 1, 0, 1, 1, 0, 1, 1, 0, 0, 1, 1, 0, 1,\n",
       "       1, 1, 0, 1, 1, 0, 1, 0, 1, 0, 1, 1, 0, 0, 0, 1, 0, 0, 1, 1, 1, 1,\n",
       "       1, 1, 0, 0, 1, 1, 1, 1])"
      ]
     },
     "execution_count": 11,
     "metadata": {},
     "output_type": "execute_result"
    }
   ],
   "source": [
    "loaded_model = pickle.load(open('heart.sv','rb'))\n",
    "e = loaded_model.predict(X_test)\n",
    "e"
   ]
  },
  {
   "metadata": {},
   "cell_type": "code",
   "outputs": [],
   "execution_count": null,
   "source": "",
   "id": "7d5bbae5b3b7cdee"
  },
  {
   "cell_type": "markdown",
   "id": "576e2bf0",
   "metadata": {},
   "source": [
    "## KNN"
   ]
  },
  {
   "cell_type": "code",
   "execution_count": null,
   "id": "36b8038e",
   "metadata": {},
   "outputs": [],
   "source": []
  }
 ],
 "metadata": {
  "kernelspec": {
   "display_name": "Python 3",
   "language": "python",
   "name": "python3"
  },
  "language_info": {
   "codemirror_mode": {
    "name": "ipython",
    "version": 3
   },
   "file_extension": ".py",
   "mimetype": "text/x-python",
   "name": "python",
   "nbconvert_exporter": "python",
   "pygments_lexer": "ipython3",
   "version": "3.12.7"
  }
 },
 "nbformat": 4,
 "nbformat_minor": 5
}
